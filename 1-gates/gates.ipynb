{
 "cells": [
  {
   "cell_type": "markdown",
   "id": "4a087d80-8d84-4a96-8baa-7f5b8add2fea",
   "metadata": {},
   "source": [
    "# Installation\n",
    "Please follow the installation guide for a detailed installation guide,for a quick start you can run the following commands."
   ]
  },
  {
   "cell_type": "code",
   "execution_count": null,
   "id": "90170149-cb90-46a3-945e-da007ab0460f",
   "metadata": {},
   "outputs": [],
   "source": [
    "try:\n",
    "    import cirq\n",
    "except ImportError:\n",
    "    print(\"installing cirq...\")\n",
    "    %pip install --quiet cirq\n",
    "    import cirq\n",
    "    print(\"installed cirq.\")\n",
    "import cirq_google"
   ]
  },
  {
   "cell_type": "markdown",
   "id": "80bb566d-f706-4c6b-a0b9-85169bed3b60",
   "metadata": {},
   "source": [
    "## Qubits in cirq\n",
    "Cirq has three main ways of defining qubits:\n",
    "\n",
    "*   `cirq.NamedQubit`: used to label qubits by an abstract name\n",
    "*   `cirq.LineQubit`: qubits labelled by number in a linear array \n",
    "*   `cirq.GridQubit`: qubits labelled by two numbers in a rectangular lattice."
   ]
  },
  {
   "cell_type": "code",
   "execution_count": null,
   "id": "9a9418d1-3f13-4345-8f33-c9fdf49c6324",
   "metadata": {},
   "outputs": [],
   "source": [
    "# Using named qubits can be useful for abstract algorithms\n",
    "# as well as algorithms not yet mapped onto hardware.\n",
    "q0 = cirq.NamedQubit('source')\n",
    "q1 = cirq.NamedQubit('target')\n",
    "\n",
    "# Line qubits can be created individually\n",
    "q3 = cirq.LineQubit(3)\n",
    "\n",
    "# Or created in a range\n",
    "# This will create LineQubit(0), LineQubit(1), LineQubit(2)\n",
    "q0, q1, q2 = cirq.LineQubit.range(3)\n",
    "\n",
    "# Grid Qubits can also be referenced individually\n",
    "q4_5 = cirq.GridQubit(4,5)\n",
    "\n",
    "# Or created in bulk in a square\n",
    "# This will create 16 qubits from (0,0) to (3,3)\n",
    "qubits = cirq.GridQubit.square(4)"
   ]
  },
  {
   "cell_type": "markdown",
   "id": "c025c71f-a475-4abd-8d1b-7bc3e40879f1",
   "metadata": {},
   "source": [
    "## Gates And Operations\n",
    "\n",
    "Cirq has two concepts that are important:\n",
    "\n",
    "*   A `Gate` is a cirq object that abstracts the unitary transformation matrix.  \n",
    "*   An `Operation` is a gate applied to a set of qubits (i.e. the multiplication operations betwen a gate and a qubit).\n",
    "\n",
    "For instance, `cirq.H` is the quantum [Hadamard](https://en.wikipedia.org/wiki/Quantum_logic_gate#Hadamard_(H)_gate) and is a `Gate` object.  `cirq.H(cirq.LineQubit(1))` is an `Operation` object and is the Hadamard gate applied to a specific qubit."
   ]
  },
  {
   "cell_type": "code",
   "execution_count": null,
   "id": "b3ba37f4-0be9-4865-a782-45263a7a050e",
   "metadata": {},
   "outputs": [],
   "source": [
    "# Example gates\n",
    "not_gate = cirq.X\n",
    "pauli_z = cirq.Z\n",
    "cnot_gate = cirq.CNOT\n",
    "\n",
    "# We can extract the unitary matrix from a Gate object as follows\n",
    "print(\"Not gate:\")\n",
    "print(cirq.unitary(not_gate))\n",
    "print(\"Pauli Z gate:\")\n",
    "print(cirq.unitary(pauli_z))\n",
    "print(\"CNOT gate:\")\n",
    "print(cirq.unitary(cnot_gate))\n",
    "\n",
    "q0, q1 = cirq.LineQubit.range(2)\n",
    "# Example Operations\n",
    "not_op = cirq.X(q0)\n",
    "z_op = cirq.Z(q0)\n",
    "cnot_op = cirq.CNOT(q0, q1)"
   ]
  },
  {
   "cell_type": "markdown",
   "id": "a6253d90-b4e6-4e1f-8581-2682b20a69ff",
   "metadata": {},
   "source": [
    "# Circuits\n",
    "\n",
    "The primary representation of quantum programs in Cirq is the `Circuit` class. A `Circuit` is a collection of `Moments`. A `Moment` is a collection of `Operations` that all act during the same abstract time slice. An `Operation` is a some effect that operates on a specific subset of Qubits, the most common type of `Operation` is a `GateOperation`.\n",
    "\n",
    "The following diagram explains it better:\n",
    "\n",
    "<img src=\"./res/CircuitMomentOperation.png\" width=\"500\" height=\"340\">\n",
    "\n"
   ]
  },
  {
   "cell_type": "code",
   "execution_count": null,
   "id": "805832c4-aa89-4fe6-8a0c-54ce5921aa42",
   "metadata": {},
   "outputs": [],
   "source": [
    "circuit1 = cirq.Circuit()\n",
    "# You can create a circuit by appending to it\n",
    "q0, q1, q2 = cirq.LineQubit.range(3)\n",
    "circuit1.append(cirq.H(q0))\n",
    "circuit1.append(cirq.H(q1))\n",
    "circuit1.append(cirq.H(q2))\n",
    "# All of the gates are put into the same Moment since none overlap\n",
    "print(\"Circutit1:\")\n",
    "print(circuit1)\n",
    "\n",
    "circuit2 = cirq.Circuit(cirq.H(q0),cirq.CNOT(q1, q2), cirq.H(q2))\n",
    "# The H gate on q2 will be put in a different moment,\n",
    "# since it would overlap with CNOT\n",
    "print(\"Circuit2:\")\n",
    "print(circuit2)"
   ]
  },
  {
   "cell_type": "markdown",
   "id": "49a3d10a-e519-4be6-a5ad-b36b06c70246",
   "metadata": {},
   "source": [
    "# Customizable Circuit Layouts\n",
    "## Defining Moments\n",
    "Now if we want to change the default behavior we have 2 options:\n",
    "either to define the moment type objects, or to use an Insert Strategy.\n",
    "We will first present the first variant because it is more general."
   ]
  },
  {
   "cell_type": "code",
   "execution_count": null,
   "id": "4f7117cb-54a9-4e6a-aa8f-ce6760a018da",
   "metadata": {},
   "outputs": [],
   "source": [
    "qubits = cirq.LineQubit.range(3)\n",
    "cz01 = cirq.CZ(qubits[0], qubits[1])\n",
    "x2 = cirq.X(qubits[2])\n",
    "cz12 = cirq.CZ(qubits[1], qubits[2])\n",
    "moment0 = cirq.Moment([cz01, x2])\n",
    "moment1 = cirq.Moment([cz12])\n",
    "circuit = cirq.Circuit((moment0, moment1))\n",
    "\n",
    "print(circuit)"
   ]
  },
  {
   "cell_type": "markdown",
   "id": "59f8ada6-819a-4464-805d-796528b1eb4f",
   "metadata": {},
   "source": [
    "## Insert Strategy\n",
    "Insert Strategy offers us the possibility to insert operations where we want by using just a simple argument in the append function.\n",
    "There are 4 types of them, and they are very well explainde in the following diagram:\n",
    "\n",
    "<img src=\"./res/InsertStrategy.png\" width=\"500\" height=\"340\">"
   ]
  },
  {
   "cell_type": "code",
   "execution_count": null,
   "id": "c4c70516-ec66-428c-a009-295109459c4a",
   "metadata": {},
   "outputs": [],
   "source": [
    "q0, q1, q2 = cirq.LineQubit.range(3)\n",
    "\n",
    "circuit1 = cirq.Circuit()\n",
    "circuit1.append([cirq.CZ(q0, q1)])\n",
    "circuit1.append([cirq.H(q0), cirq.H(q2)], strategy=cirq.InsertStrategy.EARLIEST)\n",
    "\n",
    "circuit2 = cirq.Circuit()\n",
    "circuit2.append([cirq.H(q0), cirq.H(q1), cirq.H(q2)], strategy=cirq.InsertStrategy.NEW)\n",
    "\n",
    "circuit3 = cirq.Circuit()\n",
    "circuit3.append([cirq.CZ(q1, q2)])\n",
    "circuit3.append([cirq.CZ(q1, q2)])\n",
    "circuit3.append([cirq.H(q0), cirq.H(q1), cirq.H(q2)], strategy=cirq.InsertStrategy.INLINE)\n",
    "\n",
    "circuit4 = cirq.Circuit()\n",
    "circuit4.append([cirq.H(q0)])\n",
    "circuit4.append([cirq.CZ(q1,q2), cirq.H(q0)], strategy=cirq.InsertStrategy.NEW_THEN_INLINE)\n",
    "\n",
    "print(\"EARLIEST:\")\n",
    "print(circuit1)\n",
    "print(\"NEW:\")\n",
    "print(circuit2)\n",
    "print(\"INLINE:\")\n",
    "print(circuit3)\n",
    "print(\"NEW_THEN_INLINE:\")\n",
    "print(circuit4)"
   ]
  },
  {
   "cell_type": "markdown",
   "id": "a821adc0-ffae-4d10-a818-5da96d3b6303",
   "metadata": {},
   "source": [
    "# Simulation\n",
    "\n",
    "The results of the application of a quantum circuit can be calculated by a `Simulator`.  Cirq comes bundled with a simulator that can calculate the results of circuits up to about a limit of 20 qubits.  It can be initialized with `cirq.Simulator()`.\n",
    "\n",
    "There are two different approaches to using a simulator:\n",
    "\n",
    "*   `simulate()`:  Since we are classically simulating a circuit, a simulator can directly access and view the resulting wave function.  This is useful for debugging, learning, and understanding how circuits will function.  \n",
    "*   `run()`:  When using actual quantum devices, we can only access the end result of a computation and must sample the results to get a distribution of results.  Running the simulator as a sampler mimics this behavior and only returns bit strings as output.\n",
    "\n",
    "Let's try to simulate a 2-qubit \"Bell State\":"
   ]
  },
  {
   "cell_type": "code",
   "execution_count": null,
   "id": "2794e6bd-20ce-44dd-9fc4-fe7205517844",
   "metadata": {},
   "outputs": [],
   "source": [
    "bell_circuit = cirq.Circuit()\n",
    "q0, q1 = cirq.LineQubit.range(2)\n",
    "bell_circuit.append(cirq.H(q0))\n",
    "bell_circuit.append(cirq.CNOT(q0,q1))\n",
    "print(\"Bell Circuit:\")\n",
    "print(bell_circuit)\n",
    "\n",
    "# Initialize Simulator\n",
    "simulator=cirq.Simulator()\n",
    "\n",
    "print(\"------------------- Simulate the circuit ----------------------\")\n",
    "results=simulator.simulate(bell_circuit)\n",
    "print(results)\n",
    "print(\"---------------------------------------------------------------\")\n",
    "\n",
    "# For sampling, we need to add a measurement at the end\n",
    "bell_circuit.append(cirq.measure(q0, q1, key='result'))\n",
    "\n",
    "print(\"-----------------------Sample the circuit---------------------\")\n",
    "samples=simulator.run(bell_circuit, repetitions=1000)\n",
    "# Print a histogram of results\n",
    "print(samples.histogram(key=\"result\"))\n",
    "print(\"--------------------------------------------------------------\")"
   ]
  },
  {
   "cell_type": "markdown",
   "id": "a7b1988f-e236-4f76-bcb6-c2a767729c0f",
   "metadata": {},
   "source": [
    "# Basic Exercises\n",
    "## 1. Create a Circuit\n",
    "Create the following circuit using moments or Insert strategy\n",
    "```\n",
    "    0:---H------@------\n",
    "                |\n",
    "    1:------H---X---@--\n",
    "                    |\n",
    "    2:------H---Z---X--\n",
    "```"
   ]
  },
  {
   "cell_type": "code",
   "execution_count": null,
   "id": "82416e3a-e7e5-4f9a-bcab-86732673465d",
   "metadata": {},
   "outputs": [],
   "source": [
    "q0, q1, q2 = cirq.LineQubit.range(3)\n",
    "circuit = cirq.Circuit()\n",
    "\n",
    "\n",
    "# TODO: create a moment for each vertical line in the circuit\n",
    "# above and add the operations to their moment. Alternatively\n",
    "# you can use Insert Strategy (HINT: NEW_THEN_INLINE)\n",
    "print(circuit)\n",
    "print()"
   ]
  },
  {
   "cell_type": "markdown",
   "id": "2b87cfb5-6585-4a29-b105-1e49cba10864",
   "metadata": {},
   "source": [
    "## 2. Quantum Adder \n",
    "Create a simple quantum circuit that will simulate a full adder, start from the following picture and follow the TODOs:\n",
    "\n",
    "<img src=\"./res/Quantum_Full_Adder.png\" width=\"500\" height=\"340\">"
   ]
  },
  {
   "cell_type": "code",
   "execution_count": null,
   "id": "1e477625-e25f-4aed-bfb7-4bc88b875385",
   "metadata": {},
   "outputs": [],
   "source": [
    "def create_circuit(circuit, a, b, s, c_out):\n",
    "    # TODO: ADD TOFFOLI\n",
    "    # TODO: ADD CNOT\n",
    "    # TODO: ADD TOFFOLI\n",
    "    # TODO: ADD CNOT\n",
    "    # TODO: ADD CNOT\n",
    "    # TODO: ADD measurements on s and c_out. Use key=\"results\" for measure method\n",
    "    #       Put The mesurments in a different moment than the last CNOT gate\n",
    "    print(circuit)\n",
    "    print()\n",
    "\n",
    "a, b, s, c_out = cirq.LineQubit.range(4)\n",
    "circuit = cirq.Circuit()\n",
    "create_circuit(circuit, a, b, s, c_out)"
   ]
  },
  {
   "cell_type": "markdown",
   "id": "852aaa5a-8078-4593-a859-4ac98fee84b8",
   "metadata": {},
   "source": [
    "# 3. Run the circuit\n",
    "   Follow the TODOs to construct the 4 inputs (i.e. a=0, b=0; a=0, b=1; a=1, b=0; a=1, b=1) and run the circuits."
   ]
  },
  {
   "cell_type": "code",
   "execution_count": null,
   "id": "2c9748ee-bffe-44af-bd8a-5dd8c90ab31e",
   "metadata": {},
   "outputs": [],
   "source": [
    "for x in [0,1]:\n",
    "    for y in [0,1]:\n",
    "        # Create a new circuit\n",
    "        a, b, s, c_out = cirq.LineQubit.range(4)\n",
    "        circuit = cirq.Circuit()\n",
    "        simulator = cirq.Simulator()\n",
    "        print(\"A = \" + str(x) + \" B = \" + str(y))\n",
    "        if x == 1:\n",
    "            # TODO: add a NOT gate for A. Remove None\n",
    "            None\n",
    "        if y == 1:\n",
    "            # TODO: add a NOT gate for B. Remove None\n",
    "            None\n",
    "        # create the circuit\n",
    "        create_circuit(circuit, a, b, s, c_out)\n",
    "        # TODO: use simulator.run() to sample the circuit. Store the return value in `result` !!\n",
    "        # TODO: uncoment the following line after solving the previous TODO\n",
    "        # print(\"The result is [S, C_OUT] = \", result.measurements[\"results\"][0])\n",
    "        print(\"______________________________________________________________\")"
   ]
  }
 ],
 "metadata": {
  "kernelspec": {
   "display_name": "Python 3",
   "language": "python",
   "name": "python3"
  },
  "language_info": {
   "codemirror_mode": {
    "name": "ipython",
    "version": 3
   },
   "file_extension": ".py",
   "mimetype": "text/x-python",
   "name": "python",
   "nbconvert_exporter": "python",
   "pygments_lexer": "ipython3",
   "version": "3.8.5"
  }
 },
 "nbformat": 4,
 "nbformat_minor": 5
}
