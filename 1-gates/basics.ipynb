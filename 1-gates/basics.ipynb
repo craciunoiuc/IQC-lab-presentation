{
 "cells": [
  {
   "cell_type": "markdown",
   "metadata": {
    "id": "7FV_m2u2Hny8"
   },
   "source": [
    "##### Copyright 2020 The Cirq Developers"
   ]
  },
  {
   "cell_type": "code",
   "execution_count": null,
   "metadata": {
    "cellView": "form",
    "id": "2XSh1-J7HrcU"
   },
   "outputs": [],
   "source": [
    "#@title Licensed under the Apache License, Version 2.0 (the \"License\");\n",
    "# you may not use this file except in compliance with the License.\n",
    "# You may obtain a copy of the License at\n",
    "#\n",
    "# https://www.apache.org/licenses/LICENSE-2.0\n",
    "#\n",
    "# Unless required by applicable law or agreed to in writing, software\n",
    "# distributed under the License is distributed on an \"AS IS\" BASIS,\n",
    "# WITHOUT WARRANTIES OR CONDITIONS OF ANY KIND, either express or implied.\n",
    "# See the License for the specific language governing permissions and\n",
    "# limitations under the License."
   ]
  },
  {
   "cell_type": "markdown",
   "metadata": {
    "id": "Me7G0WVTHwHg"
   },
   "source": [
    "# Cirq basics"
   ]
  },
  {
   "cell_type": "markdown",
   "metadata": {
    "id": "aAFfDwu7IFyx"
   },
   "source": [
    "<table class=\"tfo-notebook-buttons\" align=\"left\">\n",
    "  <td>\n",
    "    <a target=\"_blank\" href=\"https://quantumai.google/cirq/tutorials/basics\"><img src=\"https://quantumai.google/site-assets/images/buttons/quantumai_logo_1x.png\" />View on QuantumAI</a>\n",
    "  </td>\n",
    "  <td>\n",
    "    <a target=\"_blank\" href=\"https://colab.research.google.com/github/quantumlib/Cirq/blob/master/docs/tutorials/basics.ipynb\"><img src=\"https://quantumai.google/site-assets/images/buttons/colab_logo_1x.png\" />Run in Google Colab</a>\n",
    "  </td>\n",
    "  <td>\n",
    "    <a target=\"_blank\" href=\"https://github.com/quantumlib/Cirq/blob/master/docs/tutorials/basics.ipynb\"><img src=\"https://quantumai.google/site-assets/images/buttons/github_logo_1x.png\" />View source on GitHub</a>\n",
    "  </td>\n",
    "  <td>\n",
    "    <a href=\"https://storage.googleapis.com/tensorflow_docs/Cirq/docs/tutorials/basics.ipynb\"><img src=\"https://quantumai.google/site-assets/images/buttons/download_icon_1x.png\" />Download notebook</a>\n",
    "  </td>\n",
    "</table>"
   ]
  },
  {
   "cell_type": "markdown",
   "metadata": {
    "id": "67gUU740MSXd"
   },
   "source": [
    "This tutorial will teach the basics of how to use Cirq.  This tutorial will walk through how to use qubits, gates, and operations to create and simulate your first quantum circuit using Cirq.  It will briefly introduce devices, unitary matrices, decompositions, and transformers.\n",
    "\n",
    "This tutorial isn’t a quantum computing 101 tutorial, we assume familiarity of quantum computing at about the level of the textbook “Quantum Computation and Quantum Information” by Nielsen and Chuang.\n",
    "\n",
    "For more in-depth examples closer to those found in current work, check out our tutorials page."
   ]
  },
  {
   "cell_type": "markdown",
   "metadata": {
    "id": "1dOjJlgrNUuz"
   },
   "source": [
    "To begin, please follow the instructions for [installing Cirq](../install.md).\n",
    "\n",
    "Note: this notebook relies on unreleased Cirq features. If you want to try these features, make sure you install cirq via `pip install cirq --pre`."
   ]
  },
  {
   "cell_type": "code",
   "execution_count": 6,
   "metadata": {
    "colab": {
     "base_uri": "https://localhost:8080/"
    },
    "id": "bd9529db1c0b",
    "outputId": "ee720a71-cab1-44b2-e8f1-7286be80faf2"
   },
   "outputs": [],
   "source": [
    "try:\n",
    "    import cirq\n",
    "except ImportError:\n",
    "    print(\"installing cirq...\")\n",
    "    !pip3 install --quiet cirq\n",
    "    import cirq\n",
    "    print(\"installed cirq.\")"
   ]
  },
  {
   "cell_type": "markdown",
   "metadata": {
    "id": "xr-MMoXgNsUQ"
   },
   "source": [
    "## Qubits\n",
    "\n",
    "The first part of creating a quantum circuit is to define a set of qubits (also known as a quantum registers) to act on.\n",
    "\n",
    "Cirq has three main ways of defining qubits:\n",
    "\n",
    "*   `cirq.NamedQubit`: used to label qubits by an abstract name\n",
    "*   `cirq.LineQubit`: qubits labelled by number in a linear array \n",
    "*   `cirq.GridQubit`: qubits labelled by two numbers in a rectangular lattice.\n",
    "\n",
    "Here are some examples of defining each type of qubit."
   ]
  },
  {
   "cell_type": "code",
   "execution_count": 2,
   "metadata": {
    "colab": {
     "base_uri": "https://localhost:8080/"
    },
    "id": "PsgSo-H0Os8X",
    "outputId": "e44cb196-5a89-4fb3-dd39-b7e7391f192b"
   },
   "outputs": [
    {
     "name": "stdout",
     "output_type": "stream",
     "text": [
      "source\n",
      "\n"
     ]
    }
   ],
   "source": [
    "import cirq_google\n",
    "\n",
    "# Using named qubits can be useful for abstract algorithms\n",
    "# as well as algorithms not yet mapped onto hardware.\n",
    "q0 = cirq.NamedQubit('source')\n",
    "q1 = cirq.NamedQubit('target')\n",
    "print(q0)\n",
    "\n",
    "# Line qubits can be created individually\n",
    "q3 = cirq.LineQubit(3)\n",
    "print()\n",
    "\n",
    "# Or created in a range\n",
    "# This will create LineQubit(0), LineQubit(1), LineQubit(2)\n",
    "q0, q1, q2 = cirq.LineQubit.range(3)\n",
    "\n",
    "# Grid Qubits can also be referenced individually\n",
    "q4_5 = cirq.GridQubit(4,5)\n",
    "\n",
    "# Or created in bulk in a square\n",
    "# This will create 16 qubits from (0,0) to (3,3)\n",
    "qubits = cirq.GridQubit.square(4)"
   ]
  },
  {
   "cell_type": "markdown",
   "metadata": {
    "id": "4zE6AutyQhQ6"
   },
   "source": [
    "There are also pre-packaged sets of qubits called [Devices](../devices.md).  These are qubits along with a set of rules of how they can be used.  A `cirq.Device` can be used to apply adjacency rules and other hardware constraints to a quantum circuit.  For our example, we will use the `cirq_google.Sycamore` device that comes with cirq.  It is a 2x11 grid that mimics early hardware released by Google."
   ]
  },
  {
   "cell_type": "code",
   "execution_count": 3,
   "metadata": {
    "colab": {
     "base_uri": "https://localhost:8080/"
    },
    "id": "B0Dwgu-lQLpq",
    "outputId": "3e863d50-dd8b-4eb4-ba6d-3a98058ca56a"
   },
   "outputs": [
    {
     "name": "stdout",
     "output_type": "stream",
     "text": [
      "                                             (0, 5)───(0, 6)\n",
      "                                             │        │\n",
      "                                             │        │\n",
      "                                    (1, 4)───(1, 5)───(1, 6)───(1, 7)\n",
      "                                    │        │        │        │\n",
      "                                    │        │        │        │\n",
      "                           (2, 3)───(2, 4)───(2, 5)───(2, 6)───(2, 7)───(2, 8)\n",
      "                           │        │        │        │        │        │\n",
      "                           │        │        │        │        │        │\n",
      "                  (3, 2)───(3, 3)───(3, 4)───(3, 5)───(3, 6)───(3, 7)───(3, 8)───(3, 9)\n",
      "                  │        │        │        │        │        │        │        │\n",
      "                  │        │        │        │        │        │        │        │\n",
      "         (4, 1)───(4, 2)───(4, 3)───(4, 4)───(4, 5)───(4, 6)───(4, 7)───(4, 8)───(4, 9)\n",
      "         │        │        │        │        │        │        │        │\n",
      "         │        │        │        │        │        │        │        │\n",
      "(5, 0)───(5, 1)───(5, 2)───(5, 3)───(5, 4)───(5, 5)───(5, 6)───(5, 7)───(5, 8)\n",
      "         │        │        │        │        │        │        │\n",
      "         │        │        │        │        │        │        │\n",
      "         (6, 1)───(6, 2)───(6, 3)───(6, 4)───(6, 5)───(6, 6)───(6, 7)\n",
      "                  │        │        │        │        │\n",
      "                  │        │        │        │        │\n",
      "                  (7, 2)───(7, 3)───(7, 4)───(7, 5)───(7, 6)\n",
      "                           │        │        │\n",
      "                           │        │        │\n",
      "                           (8, 3)───(8, 4)───(8, 5)\n",
      "                                    │\n",
      "                                    │\n",
      "                                    (9, 4)\n"
     ]
    }
   ],
   "source": [
    "print(cirq_google.Sycamore)"
   ]
  },
  {
   "cell_type": "markdown",
   "metadata": {
    "id": "j1QTjyxLSe5c"
   },
   "source": [
    "## Gates and operations\n",
    "\n",
    "The next step is to use the qubits to create operations that can be used in our circuit.  Cirq has two concepts that are important to understand here:\n",
    "\n",
    "*   A `Gate` is an effect that can be applied to a set of qubits.  \n",
    "*   An `Operation` is a gate applied to a set of qubits.\n",
    "\n",
    "For instance, `cirq.H` is the quantum [Hadamard](https://en.wikipedia.org/wiki/Quantum_logic_gate#Hadamard_(H)_gate) and is a `Gate` object.  `cirq.H(cirq.LineQubit(1))` is an `Operation` object and is the Hadamard gate applied to a specific qubit (line qubit number 1).\n",
    "\n",
    "Many textbook gates are included within cirq.  `cirq.X`, `cirq.Y`, and `cirq.Z` refer to the single-qubit Pauli gates.  `cirq.CZ`, `cirq.CNOT`, `cirq.SWAP` are a few of the common two-qubit gates.  `cirq.measure` is a macro to apply a `MeasurementGate` to a set of qubits.  You can find more, as well as instructions on how to creats your own custom gates, on the [Gates documentation](../gates.ipynb) page.\n",
    "\n",
    "Many arithmetic operations can also be applied to gates.  Here are some examples:"
   ]
  },
  {
   "cell_type": "code",
   "execution_count": 9,
   "metadata": {
    "id": "wDW-yU-fesDl"
   },
   "outputs": [],
   "source": [
    "# Example gates\n",
    "not_gate = cirq.CNOT\n",
    "pauli_z = cirq.Z\n",
    "\n",
    "# Using exponentiation to get square root gates\n",
    "sqrt_x_gate = cirq.X**0.5\n",
    "\n",
    "# Some gates can also take parameters\n",
    "sqrt_sqrt_y = cirq.YPowGate(exponent=0.25)\n",
    "\n",
    "# Example operations\n",
    "q0, q1 = cirq.LineQubit.range(2)\n",
    "z_op = cirq.Z(q0)\n",
    "not_op = cirq.CNOT(q0, q1)\n",
    "sqrt_iswap_op = cirq.SQRT_ISWAP(q0, q1)"
   ]
  },
  {
   "cell_type": "markdown",
   "metadata": {
    "id": "BnBGLMVvWVkz"
   },
   "source": [
    "## Circuits and moments\n",
    "\n",
    "We are now ready to construct a quantum circuit.  A `Circuit` is a collection of `Moment`s. A `Moment` is a collection of `Operation`s that all act during the same abstract time slice.  Each `Operation` must have a disjoint set of qubits from the other `Operation`s in the `Moment`.  A `Moment` can be thought of as a vertical slice of a quantum circuit diagram.\n",
    "\n",
    "Circuits can be constructed in several different ways.  By default, cirq will attempt to slide your operation into the earliest possible `Moment` when you insert it.\n"
   ]
  },
  {
   "cell_type": "code",
   "execution_count": 10,
   "metadata": {
    "colab": {
     "base_uri": "https://localhost:8080/"
    },
    "id": "HEuqEZcXkz3Q",
    "outputId": "ff276ec3-bfda-4c8f-ba25-afcc1a756a43"
   },
   "outputs": [
    {
     "name": "stdout",
     "output_type": "stream",
     "text": [
      "0: ───H───\n",
      "\n",
      "1: ───H───\n",
      "\n",
      "2: ───H───\n"
     ]
    }
   ],
   "source": [
    "circuit = cirq.Circuit()\n",
    "# You can create a circuit by appending to it\n",
    "circuit.append(cirq.H(q) for q in cirq.LineQubit.range(3))\n",
    "# All of the gates are put into the same Moment since none overlap\n",
    "print(circuit)"
   ]
  },
  {
   "cell_type": "code",
   "execution_count": 19,
   "metadata": {
    "colab": {
     "base_uri": "https://localhost:8080/"
    },
    "id": "Wj5FJ0xIqpMp",
    "outputId": "99adf2ed-834f-4bf6-9582-ff7881cea2bf"
   },
   "outputs": [
    {
     "name": "stdout",
     "output_type": "stream",
     "text": [
      "0: ───H───\n",
      "\n",
      "1: ───H───\n",
      "\n",
      "2: ───H───\n"
     ]
    }
   ],
   "source": [
    "circuit = cirq.Circuit()\n",
    "# You can create a circuit by appending to it\n",
    "q0, q1, q2 = cirq.LineQubit.range(3)\n",
    "circuit.append(cirq.H(q0))\n",
    "circuit.append(cirq.H(q1))\n",
    "circuit.append(cirq.H(q2))\n",
    "# All of the gates are put into the same Moment since none overlap\n",
    "print(circuit)"
   ]
  },
  {
   "cell_type": "code",
   "execution_count": 8,
   "metadata": {
    "colab": {
     "base_uri": "https://localhost:8080/"
    },
    "id": "Lbez4guQl31P",
    "outputId": "b2e61897-bb44-48ea-ed9a-e7b730b13cbd"
   },
   "outputs": [
    {
     "name": "stdout",
     "output_type": "stream",
     "text": [
      "0: ───×───────────\n",
      "      │\n",
      "1: ───×───×───────\n",
      "          │\n",
      "2: ───────×───×───\n",
      "              │\n",
      "3: ───────────×───\n"
     ]
    }
   ],
   "source": [
    "# We can also create a circuit directly as well:\n",
    "print(cirq.Circuit(cirq.SWAP(q, q+1) for q in cirq.LineQubit.range(3)))"
   ]
  },
  {
   "cell_type": "code",
   "execution_count": 25,
   "metadata": {
    "colab": {
     "base_uri": "https://localhost:8080/"
    },
    "id": "DfVPXLjQryZN",
    "outputId": "960a98dc-ee3c-4415-8be8-db288d3cc97d"
   },
   "outputs": [
    {
     "name": "stdout",
     "output_type": "stream",
     "text": [
      "0: ───×───────\n",
      "      │\n",
      "1: ───×───X───\n",
      "          │\n",
      "2: ───×───@───\n",
      "      │\n",
      "3: ───×───────\n"
     ]
    }
   ],
   "source": [
    "# We can also create a circuit directly as well:\n",
    "q0,q1,q2,q3\n",
    "circuit = cirq.Circuit()\n",
    "circuit.append(cirq.SWAP(q0,q1))\n",
    "circuit.append(cirq.SWAP(q2,q3))\n",
    "circuit.append(cirq.CNOT(q2,q1))\n",
    "print(circuit)"
   ]
  },
  {
   "cell_type": "markdown",
   "metadata": {
    "id": "3FC9bdlXmShh"
   },
   "source": [
    "Sometimes, you may not want cirq to automatically shift operations all the way to the left.  To construct a circuit without doing this, you can create the circuit moment-by-moment or use a different `InsertStrategy`, explained more in the [Circuit documentation](../circuits.ipynb)."
   ]
  },
  {
   "cell_type": "code",
   "execution_count": 11,
   "metadata": {
    "colab": {
     "base_uri": "https://localhost:8080/"
    },
    "id": "4AEahodTnYiI",
    "outputId": "dc763f18-8773-42d6-cfe3-050080a315eb"
   },
   "outputs": [
    {
     "name": "stdout",
     "output_type": "stream",
     "text": [
      "0: ───H───────────\n",
      "\n",
      "1: ───────H───────\n",
      "\n",
      "2: ───────────H───\n"
     ]
    }
   ],
   "source": [
    "# Creates each gate in a separate moment.\n",
    "print(cirq.Circuit(cirq.Moment([cirq.H(q)]) for q in cirq.LineQubit.range(3)))"
   ]
  },
  {
   "cell_type": "markdown",
   "metadata": {
    "id": "j406AKYsobpq"
   },
   "source": [
    "### Circuits and devices\n",
    "\n",
    "One important consideration when using real quantum devices is that there are often hardware constraints on the circuit.  Creating a circuit with a `Device` will allow you to capture some of these requirements.  `Device`s can be used to validate your circuit to make sure that it contains no illegal operations.\n",
    "\n",
    "Let's look at an example using the Sycamore Device:"
   ]
  },
  {
   "cell_type": "code",
   "execution_count": 12,
   "metadata": {
    "colab": {
     "base_uri": "https://localhost:8080/"
    },
    "id": "9UV-dXJOpy8B",
    "outputId": "b4dd678c-b98f-45db-aaef-35ef17b67604"
   },
   "outputs": [
    {
     "name": "stdout",
     "output_type": "stream",
     "text": [
      "Operation does not use valid qubit target: SYC((5, 6), (4, 5)).\n"
     ]
    }
   ],
   "source": [
    "q0 = cirq.GridQubit(5, 6)\n",
    "q1 = cirq.GridQubit(5, 5)\n",
    "q2 = cirq.GridQubit(4, 5)\n",
    "adjacent_op = cirq_google.SYC(q0, q1)\n",
    "nonadjacent_op = cirq_google.SYC(q0, q2)\n",
    "\n",
    "# A working circuit for the Sycamore device raises no issues.\n",
    "working_circuit = cirq.Circuit()\n",
    "working_circuit.append(adjacent_op)\n",
    "valid = cirq_google.Sycamore.validate_circuit(working_circuit)\n",
    "\n",
    "# A circuit using invalid operations.\n",
    "bad_circuit = cirq.Circuit()\n",
    "bad_circuit.append(nonadjacent_op)\n",
    "try:\n",
    "  cirq_google.Sycamore.validate_circuit(bad_circuit)\n",
    "except ValueError as e:\n",
    "  print(e)"
   ]
  },
  {
   "cell_type": "markdown",
   "metadata": {
    "id": "xZ68bWEjoMKt"
   },
   "source": [
    "## Simulation\n",
    "\n",
    "The results of the application of a quantum circuit can be calculated by a `Simulator`.  Cirq comes bundled with a simulator that can calculate the results of circuits up to about a limit of 20 qubits.  It can be initialized with `cirq.Simulator()`.\n",
    "\n",
    "There are two different approaches to using a simulator:\n",
    "\n",
    "*   `simulate()`:  Since we are classically simulating a circuit, a simulator can directly access and view the resulting wave function.  This is useful for debugging, learning, and understanding how circuits will function.  \n",
    "*   `run()`:  When using actual quantum devices, we can only access the end result of a computation and must sample the results to get a distribution of results.  Running the simulator as a sampler mimics this behavior and only returns bit strings as output.\n",
    "\n",
    "Let's try to simulate a 2-qubit \"Bell State\":"
   ]
  },
  {
   "cell_type": "code",
   "execution_count": 31,
   "metadata": {
    "colab": {
     "base_uri": "https://localhost:8080/"
    },
    "id": "AwC4SL6CHpXm",
    "outputId": "d21c8ed6-dd37-4d0e-b125-fc1242d71eaf"
   },
   "outputs": [
    {
     "name": "stdout",
     "output_type": "stream",
     "text": [
      "0: ───H───@───\n",
      "          │\n",
      "1: ───────X───\n",
      "Simulate the circuit:\n",
      "measurements: (no measurements)\n",
      "\n",
      "qubits: (cirq.LineQubit(0), cirq.LineQubit(1))\n",
      "output vector: 0.707|00⟩ + 0.707|11⟩\n",
      "\n",
      "phase:\n",
      "output vector: |⟩\n",
      "-----\n",
      "Sample the circuit:\n",
      "Counter({0: 510, 3: 490})\n"
     ]
    }
   ],
   "source": [
    "# Create a circuit to generate a Bell State:\n",
    "# 1/sqrt(2) * ( |00⟩ + |11⟩ )\n",
    "bell_circuit = cirq.Circuit()\n",
    "q0, q1 = cirq.LineQubit.range(2)\n",
    "bell_circuit.append(cirq.H(q0))\n",
    "bell_circuit.append(cirq.CNOT(q0,q1))\n",
    "print(bell_circuit)\n",
    "\n",
    "# Initialize Simulator\n",
    "s=cirq.Simulator()\n",
    "\n",
    "print('Simulate the circuit:')\n",
    "results=s.simulate(bell_circuit)\n",
    "print(results)\n",
    "print(\"-----\")\n",
    "\n",
    "# For sampling, we need to add a measurement at the end\n",
    "bell_circuit.append(cirq.measure(q0, q1, key='result'))\n",
    "\n",
    "print('Sample the circuit:')\n",
    "samples=s.run(bell_circuit, repetitions=1000)\n",
    "# Print a histogram of results\n",
    "print(samples.histogram(key='result'))"
   ]
  },
  {
   "cell_type": "markdown",
   "metadata": {
    "id": "06Q_7vlQSu4Z"
   },
   "source": [
    "### Using parameter sweeps\n",
    "\n",
    "Cirq circuits allow for gates to have symbols as free parameters within the circuit.  This is especially useful for variational algorithms, which vary parameters within the circuit in order to optimize a cost function, but it can be useful in a variety of circumstances.\n",
    "\n",
    "For parameters, cirq uses the library `sympy` to add `sympy.Symbol` as parameters to gates and operations.  \n",
    "\n",
    "Once the circuit is complete, you can fill in the possible values of each of these parameters with a `Sweep`.  There are several possibilities that can be used as a sweep:\n",
    "\n",
    "*   `cirq.Points`: A list of manually specified values for one specific symbol as a sequence of floats\n",
    "*   `cirq.Linspace`: A linear sweep from a starting value to an ending value.\n",
    "*   `cirq.ListSweep`: A list of manually specified values for several different symbols, specified as a list of dictionaries.\n",
    "*   `cirq.Zip` and `cirq.Product`: Sweeps can be combined list-wise by zipping them together or through their Cartesian product.\n",
    "\n",
    "A parameterized circuit and sweep together can be run using the simulator or other sampler by changing `run()` to `run_sweep()` and adding the sweep as a parameter.\n",
    "\n",
    "Here is an example of sweeping an exponent of a X gate:"
   ]
  },
  {
   "cell_type": "code",
   "execution_count": 4,
   "metadata": {
    "colab": {
     "base_uri": "https://localhost:8080/",
     "height": 299
    },
    "id": "ElyizofbLGq9",
    "outputId": "49d749b8-993b-4efa-c837-80553509c792"
   },
   "outputs": [
    {
     "name": "stdout",
     "output_type": "stream",
     "text": [
      "(1, 1): ───X^t───M('m')───\n"
     ]
    },
    {
     "data": {
      "text/plain": [
       "<matplotlib.collections.PathCollection at 0x7fd5fb63d220>"
      ]
     },
     "execution_count": 4,
     "metadata": {},
     "output_type": "execute_result"
    },
    {
     "data": {
      "image/png": "[encoded data removed]",
      "text/plain": [
       "<Figure size 432x288 with 1 Axes>"
      ]
     },
     "metadata": {
      "needs_background": "light"
     },
     "output_type": "display_data"
    }
   ],
   "source": [
    "import matplotlib.pyplot as plt\n",
    "import sympy\n",
    "\n",
    "# Perform an X gate with variable exponent\n",
    "q = cirq.GridQubit(1,1)\n",
    "circuit = cirq.Circuit(cirq.X(q) ** sympy.Symbol('t'),\n",
    "                       cirq.measure(q, key='m'))\n",
    "\n",
    "print(circuit)\n",
    "\n",
    "# Sweep exponent from zero (off) to one (on) and back to two (off)\n",
    "param_sweep = cirq.Linspace('t', start=0, stop=2, length=200)\n",
    "\n",
    "# Simulate the sweep\n",
    "s = cirq.Simulator()\n",
    "trials = s.run_sweep(circuit, param_sweep, repetitions=1000)\n",
    "\n",
    "# Plot all the results\n",
    "x_data = [trial.params['t'] for trial in trials]\n",
    "y_data = [trial.histogram(key='m')[1] / 1000.0 for trial in trials]\n",
    "plt.scatter('t','p', data={'t': x_data, 'p': y_data})\n"
   ]
  },
  {
   "cell_type": "markdown",
   "metadata": {
    "id": "M8oLYwusz4XE"
   },
   "source": [
    "## Unitary matrices and decompositions\n",
    "\n",
    "Most quantum operations have a unitary matrix representation.  This matrix can be accessed by applying `cirq.unitary()`.  This can be applied to gates, operations, and circuits that support this protocol and will return the unitary matrix that represents the object."
   ]
  },
  {
   "cell_type": "code",
   "execution_count": 5,
   "metadata": {
    "colab": {
     "base_uri": "https://localhost:8080/"
    },
    "id": "xn9nnBA70s23",
    "outputId": "d416e28e-81a1-4846-c933-4bf87dca0819"
   },
   "outputs": [
    {
     "name": "stdout",
     "output_type": "stream",
     "text": [
      "Unitary of the X gate\n",
      "[[0.+0.j 1.+0.j]\n",
      " [1.+0.j 0.+0.j]]\n",
      "Unitary of SWAP operator on two qubits.\n",
      "[[1.+0.j 0.+0.j 0.+0.j 0.+0.j]\n",
      " [0.+0.j 0.+0.j 1.+0.j 0.+0.j]\n",
      " [0.+0.j 1.+0.j 0.+0.j 0.+0.j]\n",
      " [0.+0.j 0.+0.j 0.+0.j 1.+0.j]]\n",
      "Unitary of a sample circuit\n",
      "[[0.+0.j 0.+0.j 1.+0.j 0.+0.j]\n",
      " [1.+0.j 0.+0.j 0.+0.j 0.+0.j]\n",
      " [0.+0.j 0.+0.j 0.+0.j 1.+0.j]\n",
      " [0.+0.j 1.+0.j 0.+0.j 0.+0.j]]\n"
     ]
    }
   ],
   "source": [
    "print('Unitary of the X gate')\n",
    "print(cirq.unitary(cirq.X))\n",
    "\n",
    "print('Unitary of SWAP operator on two qubits.')\n",
    "q0, q1 = cirq.LineQubit.range(2)\n",
    "print(cirq.unitary(cirq.SWAP(q0, q1)))\n",
    "\n",
    "print('Unitary of a sample circuit')\n",
    "print(cirq.unitary(cirq.Circuit(cirq.X(q0), cirq.SWAP(q0, q1))))"
   ]
  },
  {
   "cell_type": "markdown",
   "metadata": {
    "id": "Ls6Tnx90Y94Q"
   },
   "source": [
    "### Decompositions \n",
    "\n",
    "Many gates can be decomposed into an equivalent circuit with simpler operations and gates.  This is called decomposition and can be accomplished with the `cirq.decompose` protocol.  \n",
    "\n",
    "For instance, a Hadamard H gate can be decomposed into X and Y gates:"
   ]
  },
  {
   "cell_type": "code",
   "execution_count": 34,
   "metadata": {
    "colab": {
     "base_uri": "https://localhost:8080/"
    },
    "id": "u8JwZaAUfbSv",
    "outputId": "ac31f58a-bf44-4e36-9949-a1bb58b5e6d9"
   },
   "outputs": [
    {
     "name": "stdout",
     "output_type": "stream",
     "text": [
      "[(cirq.Y**0.5).on(cirq.LineQubit(0)), cirq.XPowGate(exponent=1.0, global_shift=-0.25).on(cirq.LineQubit(0))]\n"
     ]
    }
   ],
   "source": [
    "print(cirq.decompose(cirq.H(cirq.LineQubit(0))))"
   ]
  },
  {
   "cell_type": "markdown",
   "metadata": {
    "id": "B8ciZZSSf2jb"
   },
   "source": [
    "Another example is the 3-qubit Toffoli gate, which is equivalent to a controlled-controlled-X gate.  Many devices do not support a three qubit gate, so it is important "
   ]
  },
  {
   "cell_type": "code",
   "execution_count": 35,
   "metadata": {
    "colab": {
     "base_uri": "https://localhost:8080/"
    },
    "id": "bbjRWlzjgPwf",
    "outputId": "96d3a225-3b88-45d9-b990-8740cd3f663f"
   },
   "outputs": [
    {
     "name": "stdout",
     "output_type": "stream",
     "text": [
      "0: ───T────────────────@─────────────────────────────────@─────────────────────────────@────────────────────────────@───────────────────────────────────────\n",
      "                       │                                 │                             │                            │\n",
      "1: ───T───────Y^-0.5───@───Y^0.5────@───T^-1────Y^-0.5───@────────Y^0.5───@───Y^-0.5───@──────Y^0.5────@───Y^-0.5───@──────Y^0.5────@───────────────────────\n",
      "                                    │                                     │                            │                            │\n",
      "2: ───Y^0.5───X────────T───Y^-0.5───@───Y^0.5───T────────Y^-0.5───────────@───Y^0.5────T^-1───Y^-0.5───@───Y^0.5────T^-1───Y^-0.5───@───Y^0.5───Y^0.5───X───\n"
     ]
    }
   ],
   "source": [
    "q0, q1, q2 = cirq.LineQubit.range(3)\n",
    "print(cirq.Circuit(cirq.decompose(cirq.TOFFOLI(q0, q1, q2))))"
   ]
  },
  {
   "cell_type": "markdown",
   "metadata": {
    "id": "VWcik4ZwggXj"
   },
   "source": [
    "The above decomposes the Toffoli into a simpler set of one-qubit gates and CZ gates at the cost of lengthening the circuit considerably."
   ]
  },
  {
   "cell_type": "markdown",
   "metadata": {
    "id": "rIUbvdVQkHbX"
   },
   "source": [
    "### Transformers\n",
    "\n",
    "The last concept in this tutorial is the transformer.  An transformer can take a circuit and modify it.  Usually, this will entail combining or modifying operations to make it more efficient and shorter, though an transformer can, in theory, do any sort of circuit manipulation.\n",
    "\n",
    "For example, the `cirq.merge_single_qubit_gates_to_phxz` transformer will take consecutive single-qubit operations and merge them into a single `PhasedXZ` operation."
   ]
  },
  {
   "cell_type": "code",
   "execution_count": null,
   "metadata": {
    "id": "5WvfOdaG5C_6"
   },
   "outputs": [],
   "source": [
    "q=cirq.GridQubit(1, 1)\n",
    "c=cirq.Circuit(cirq.X(q) ** 0.25, cirq.Y(q) ** 0.25, cirq.Z(q) ** 0.25)\n",
    "print(c)\n",
    "c = cirq.merge_single_qubit_gates_to_phxz(c)\n",
    "print(c)"
   ]
  },
  {
   "cell_type": "markdown",
   "metadata": {
    "id": "xRfQqzdx7lUI"
   },
   "source": [
    "Other transformers can assist in transforming a circuit into operations that are native operations on specific hardware devices.  You can find more about transformers and how to create your own elsewhere in the documentation."
   ]
  },
  {
   "cell_type": "markdown",
   "metadata": {
    "id": "8QbTGmKlYT4i"
   },
   "source": [
    "## Next steps\n",
    "\n",
    "After completing this tutorial, you should be able to use gates and operations to construct your own quantum circuits, simulate them, and to use sweeps.  It should give you a brief idea of the commonly used \n",
    "\n",
    "There is much more to learn and try out for those who are interested:\n",
    "\n",
    "* Learn about the variety of [Gates](../gates.ipynb) available in cirq and more about the different ways to construct [Circuits](../circuits.ipynb)\n",
    "* Learn more about [Simulations](../simulation.ipynb) and how it works.\n",
    "* Learn about [Noise](../noise.ipynb) and how to utilize multi-level systems using [Qudits](../qudits.ipynb)\n",
    "* Dive into some [Examples](_index.yaml) and some in-depth tutorials of how to use cirq.\n",
    "\n",
    "Also, join our [cirq-announce mailing list](https://groups.google.com/forum/#!forum/cirq-announce) to hear about changes and releases or go to the [cirq github](https://github.com/quantumlib/Cirq/) to file issues."
   ]
  }
 ],
 "metadata": {
  "colab": {
   "collapsed_sections": [],
   "name": "basics.ipynb",
   "provenance": [],
   "toc_visible": true
  },
  "kernelspec": {
   "display_name": "Python 3",
   "language": "python",
   "name": "python3"
  },
  "language_info": {
   "codemirror_mode": {
    "name": "ipython",
    "version": 3
   },
   "file_extension": ".py",
   "mimetype": "text/x-python",
   "name": "python",
   "nbconvert_exporter": "python",
   "pygments_lexer": "ipython3",
   "version": "3.8.5"
  }
 },
 "nbformat": 4,
 "nbformat_minor": 4
}
