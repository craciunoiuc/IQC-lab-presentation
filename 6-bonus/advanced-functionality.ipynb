{
 "cells": [
  {
   "cell_type": "markdown",
   "metadata": {},
   "source": [
    "# Advanced Cirq Functionality\n",
    "\n",
    "In this bonus part, we will explore 3 more advanced use cases of Cirq:\n",
    " * [Protocols](https://quantumai.google/cirq/protocols)\n",
    " * [Custom Gates](https://quantumai.google/cirq/custom_gates)\n",
    " * [Operators & Observables](https://quantumai.google/cirq/operators)\n",
    "\n",
    "These can offer a more in-depth look at what Cirq is capable of.\n",
    "You will not have to implement anything in this part.\n",
    "\n",
    "Follow the code and observe the behaviour."
   ]
  },
  {
   "cell_type": "markdown",
   "metadata": {},
   "source": [
    "## Exercises"
   ]
  },
  {
   "cell_type": "code",
   "execution_count": null,
   "metadata": {},
   "outputs": [],
   "source": [
    "try:\n",
    "    import cirq\n",
    "except ImportError:\n",
    "    %pip install --quiet cirq\n",
    "    import cirq\n",
    "import numpy as np"
   ]
  },
  {
   "cell_type": "markdown",
   "metadata": {},
   "source": [
    "### 1. Protocols\n",
    "\n",
    "Cirq's protocols are very similar concept to Python's built-in protocols.\n",
    "For example, behind all the for loops and list comprehensions you can find the *Iterator* protocol.\n",
    "As long as an object has the `__iter__()` method that returns an iterator object, it has iterator support.\n",
    "An iterator object has to define `__iter__()` and `__next__()` methods, that defines the iterator protocol."
   ]
  },
  {
   "cell_type": "markdown",
   "metadata": {},
   "source": [
    "A canonical Cirq protocol example is the `unitary` protocol that allows to check the unitary matrix of values that support the protocol by calling `cirq.unitary(val)`"
   ]
  },
  {
   "cell_type": "code",
   "execution_count": null,
   "metadata": {},
   "outputs": [],
   "source": [
    "print(cirq.X)\n",
    "print(\"cirq.X unitary:\\n\", cirq.unitary(cirq.X))\n",
    "\n",
    "a, b = cirq.LineQubit.range(2)\n",
    "circuit = cirq.Circuit(cirq.X(a), cirq.Y(b))\n",
    "print(circuit)\n",
    "print(\"circuit unitary:\\n\", cirq.unitary(circuit))"
   ]
  },
  {
   "cell_type": "markdown",
   "metadata": {},
   "source": [
    "#### What is a protocol?\n",
    "\n",
    "A protocol is a combination of the following two items:\n",
    "\n",
    " * A `SupportsXYZ` class, which defines and documents all the functions that need to be implemented in order to support that given protocol\n",
    " * The entrypoint function(s), which are exposed to the main cirq namespace as `cirq.xyz()`"
   ]
  },
  {
   "cell_type": "markdown",
   "metadata": {},
   "source": [
    "The following family of protocols is an important and frequently used set of features of Cirq.\n",
    "They are, in the order of increasing generality:\n",
    " * `unitary`\n",
    " * `kraus`\n",
    " * `mixture`\n"
   ]
  },
  {
   "cell_type": "markdown",
   "metadata": {},
   "source": [
    "The `unitary` protocol is the least generic, as only unitary operators should implement it.\n",
    "The `cirq.unitary` function returns the matrix representation of the operator in the computational basis.\n",
    "We saw an example of the unitary protocol above, but let's see the unitary matrix of the Pauli-Y operator as well: "
   ]
  },
  {
   "cell_type": "code",
   "execution_count": null,
   "metadata": {},
   "outputs": [],
   "source": [
    "print(cirq.unitary(cirq.Y))"
   ]
  },
  {
   "cell_type": "markdown",
   "metadata": {},
   "source": [
    "The `kraus` representation is the operator sum representation of a quantum operator (a channel).\n",
    "These matrices are required to satisfy the trace preserving condition.\n",
    "\n",
    "The `cirq.kraus` returns a tuple of numpy arrays, one for each of the Kraus operators.\n",
    "In the simplest case of a unitary operator, `cirq.kraus` returns a one-element tuple with the same unitary as returned by `cirq.unitary`:"
   ]
  },
  {
   "cell_type": "code",
   "execution_count": null,
   "metadata": {},
   "outputs": [],
   "source": [
    "print(cirq.kraus(cirq.Y))\n",
    "print(cirq.unitary(cirq.Y))\n",
    "print(cirq.has_kraus(cirq.Y))"
   ]
  },
  {
   "cell_type": "markdown",
   "metadata": {},
   "source": [
    "The `mixture` protocol should be implemented by operators that are unitary-mixtures.\n",
    "These probabilistic operators are represented by a list of tuples (, ), where each unitary effect occurs with a certain probability.\n",
    "Probabilities are a Python float between 0.0 and 1.0, and the unitary matrices are `numpy` arrays."
   ]
  },
  {
   "cell_type": "code",
   "execution_count": null,
   "metadata": {},
   "outputs": [],
   "source": [
    "probabilistic_x = cirq.X.with_probability(.3)\n",
    "\n",
    "for p, op in cirq.mixture(probabilistic_x):\n",
    "    print(f\"probability: {p}\")\n",
    "    print(\"operator:\")\n",
    "    print(op)"
   ]
  },
  {
   "cell_type": "markdown",
   "metadata": {},
   "source": [
    "### 2. Custom Gates\n",
    "\n",
    "Standard gates such as Pauli gates and CNOTs are defined in `cirq.ops`.\n",
    "To use a unitary which is not a standard gate in a circuit, custom gates can be created.\n",
    "\n",
    "#### General Pattern\n",
    "\n",
    "Gates are classes in Cirq.\n",
    "To define custom gates, we inherit from a base gate class and define a few methods.\n",
    "\n",
    "The general workflow is to:\n",
    " 1. Inherit from `cirq.Gate`\n",
    " 2. Define one of the `_num_qubits_` or `_qid_shape_` methods\n",
    " 3. Define one of the `_unitary_` or `_decompose_` methods\n"
   ]
  },
  {
   "cell_type": "markdown",
   "metadata": {},
   "source": [
    "Here, we define a gate which corresponds to the unitary:\n",
    "\n",
    "<img src=\"./res/custom_gate.png\" alt=\"Custom Gate\" width=\"200\"/>"
   ]
  },
  {
   "cell_type": "code",
   "execution_count": null,
   "metadata": {},
   "outputs": [],
   "source": [
    "class MyGate(cirq.Gate):\n",
    "    def __init__(self):\n",
    "        super(MyGate, self)\n",
    "\n",
    "    def _num_qubits_(self):\n",
    "        return 1\n",
    "\n",
    "    def _unitary_(self):\n",
    "        return np.array([\n",
    "            [1.0,  1.0],\n",
    "            [-1.0, 1.0]\n",
    "        ]) / np.sqrt(2)\n",
    "\n",
    "    def _circuit_diagram_info_(self, args):\n",
    "        return \"G\""
   ]
  },
  {
   "cell_type": "markdown",
   "metadata": {},
   "source": [
    "Create the circuit and simulate it"
   ]
  },
  {
   "cell_type": "code",
   "execution_count": null,
   "metadata": {},
   "outputs": [],
   "source": [
    "\"\"\"Use the custom gate in a circuit.\"\"\"\n",
    "circ = cirq.Circuit(\n",
    "    MyGate().on(cirq.LineQubit(0))\n",
    ")\n",
    "\n",
    "print(\"Circuit with custom gates:\")\n",
    "print(circ)\n",
    "\n",
    "sim = cirq.Simulator()\n",
    "\n",
    "res = sim.simulate(circ)\n",
    "print(res)"
   ]
  },
  {
   "cell_type": "markdown",
   "metadata": {},
   "source": [
    "We can also have have multiple qubit custom gates which also take parameters.\n",
    "In order to do this, we need to modify the number of qubits.\n",
    "Moreover, we need to add the parameters to the `__init__` constructor.\n",
    "We will create the Rotation gate with two parameters:"
   ]
  },
  {
   "cell_type": "code",
   "execution_count": null,
   "metadata": {},
   "outputs": [],
   "source": [
    "\"\"\"Define a custom gate with two parameters.\"\"\"\n",
    "class RotationGate(cirq.Gate):\n",
    "    def __init__(self, theta, pfi):\n",
    "        super(RotationGate, self)\n",
    "        self.theta = theta\n",
    "        self.pfi = pfi\n",
    "\n",
    "    def _num_qubits_(self):\n",
    "        return 2\n",
    "\n",
    "    def _unitary_(self):\n",
    "        return np.array([\n",
    "            [np.cos(self.theta), np.sin(self.pfi)],\n",
    "            [np.sin(self.pfi), -np.cos(self.theta)]\n",
    "        ]) / np.sqrt(2)\n",
    "\n",
    "    def _circuit_diagram_info_(self, args):\n",
    "        return f\"Rt({self.theta})\", f\"Rp{self.pfi})\""
   ]
  },
  {
   "cell_type": "code",
   "execution_count": null,
   "metadata": {},
   "outputs": [],
   "source": [
    "\"\"\"Use the custom gate in a circuit.\"\"\"\n",
    "circ = cirq.Circuit(\n",
    "    RotationGate(theta=0.1, pfi=0.2).on(*cirq.LineQubit.range(2))\n",
    ")\n",
    "\n",
    "print(\"Circuit with a custom rotation gate:\")\n",
    "print(circ)"
   ]
  },
  {
   "cell_type": "markdown",
   "metadata": {},
   "source": [
    "### 3. Operators & Observables\n",
    "\n",
    "Quantum operations (or just operators) include unitary gates, measurements, and noisy channels.\n",
    "Operators that act on a given set of qubits implement `cirq.Operation` which supports the Kraus operator representation.\n",
    "\n",
    "As we have already discussed the other operators, we will only focus on *noisy channels*.\n",
    "\n",
    "One example of *noisy channels* is the `DepolarizingChannel`.\n",
    "Observe the channel and the kraus operations.\n",
    "Also observe we can add noise to a Circuit."
   ]
  },
  {
   "cell_type": "code",
   "execution_count": null,
   "metadata": {},
   "outputs": [],
   "source": [
    "depo_channel = cirq.DepolarizingChannel(p=0.01, n_qubits=1)\n",
    "print(depo_channel)\n",
    "\n",
    "kraus_ops = cirq.kraus(depo_channel)\n",
    "print(f\"Kraus operators of {depo_channel} are:\", *[op.round(2) for op in kraus_ops], sep=\"\\n\\n\")"
   ]
  },
  {
   "cell_type": "code",
   "execution_count": null,
   "metadata": {},
   "outputs": [],
   "source": [
    "q1 = cirq.LineQubit(0)\n",
    "\n",
    "circuit = cirq.Circuit(\n",
    "    cirq.H(q1),\n",
    "    cirq.depolarize(p=0.01).on(q1),\n",
    "    cirq.measure(q1)\n",
    ")\n",
    "\n",
    "print(circuit)"
   ]
  }
 ],
 "metadata": {
  "interpreter": {
   "hash": "043edfcbf51de9b3218b38f0a8048159c12c7d98a723bf8d724fa0846bcbb564"
  },
  "kernelspec": {
   "display_name": "Python 3.8.4 64-bit",
   "language": "python",
   "name": "python3"
  },
  "language_info": {
   "codemirror_mode": {
    "name": "ipython",
    "version": 3
   },
   "file_extension": ".py",
   "mimetype": "text/x-python",
   "name": "python",
   "nbconvert_exporter": "python",
   "pygments_lexer": "ipython3",
   "version": "3.8.4"
  },
  "orig_nbformat": 4
 },
 "nbformat": 4,
 "nbformat_minor": 2
}
