{
 "cells": [
  {
   "cell_type": "markdown",
   "metadata": {},
   "source": [
    "# Deutsch Algorithm Implementation\n",
    "\n",
    "In this exercise we will implement the Deutsch algorithm for finding if two bits are of the same parity.\n",
    "This is a subcase of the Deutsch-Jozsa algorithm, but offers a more down-to-earth understanding of the algorithm.\n",
    "\n",
    "The Deutsch-Jozsa algorithm is one of the most popular quantum algorithms that show the advantage of quantum computing.\n",
    "The problem can only be solved in exponential time in the *classical world*, but has a polynomial complexity in the *quantum world*.\n",
    "\n",
    "The diagram of the Deutsch-Jozsa algorithm is shown below.\n",
    "\n",
    "<img src=\"./res/deutsch_diagram.png\" alt=\"Deutsch Diagram\" width=\"600\"/>\n",
    "\n",
    "We can see that that an H gate is applied on all qubits, and all qubits are |0>, except the last qubit, which is flipped.\n",
    "At the end, the result is set in the first qubit and another H gate is applied before measuring the result.\n",
    "\n",
    "The Algorithm has little purpose in the real world, but it is a useful tool for understanding the advantages of quantum computing."
   ]
  },
  {
   "cell_type": "markdown",
   "metadata": {},
   "source": [
    "## Exercise\n",
    "\n",
    "Let's implement the Deutsch algorithm.\n",
    "Follow the text instructions to implement the algorithm and fill in the missing code on the lines that contain TODOs."
   ]
  },
  {
   "cell_type": "code",
   "execution_count": 930,
   "metadata": {},
   "outputs": [],
   "source": [
    "import random\n",
    "import cirq"
   ]
  },
  {
   "cell_type": "markdown",
   "metadata": {},
   "source": [
    "### 1. Qubits Initialization\n",
    "\n",
    "Initialize the number of qubits to be used in the experiment.\n",
    "\n",
    "We will use 2 qubits for this experiment.\n",
    "You are free to extend the exercise to N qubits as a bonus."
   ]
  },
  {
   "cell_type": "code",
   "execution_count": 931,
   "metadata": {},
   "outputs": [],
   "source": [
    "# Initialize the qubits to use\n",
    "q0, q1 = cirq.LineQubit.range(2)"
   ]
  },
  {
   "cell_type": "markdown",
   "metadata": {},
   "source": [
    "### 2. Boolean Secret Function\n",
    "\n",
    "The secret function is a list of 0s and 1s *hidden* inside the oracle.\n",
    "\n",
    "It is recommended to generate the elements of the list randomly."
   ]
  },
  {
   "cell_type": "code",
   "execution_count": 932,
   "metadata": {},
   "outputs": [
    {
     "name": "stdout",
     "output_type": "stream",
     "text": [
      "f(x) = [1, 1]\n"
     ]
    }
   ],
   "source": [
    "# Pick a secret 2-bit function and create a circuit to query the oracle\n",
    "oracle = []\n",
    "secret_function = [random.randint(0, 1) for _ in range(2)]\n",
    "print(\"f(x) =\", secret_function)"
   ]
  },
  {
   "cell_type": "markdown",
   "metadata": {},
   "source": [
    "### 3. Oracle Circuit\n",
    "\n",
    "The oracle circuit applies operations that produce either 0 or 1.\n",
    "This means that the circuit will produce the result at the first qubit.\n",
    "\n",
    "We chose to construct a circuit that calculates the parity of the input.\n",
    "If both bits of the secret function are the same, the oracle will produce 0.\n",
    "Otherwise it will produce 1."
   ]
  },
  {
   "cell_type": "code",
   "execution_count": 933,
   "metadata": {},
   "outputs": [
    {
     "name": "stdout",
     "output_type": "stream",
     "text": [
      "Oracle:\n",
      " 0: ───@───────@───\n",
      "      │       │\n",
      "1: ───X───X───X───\n"
     ]
    }
   ],
   "source": [
    "# Construct the oracle\n",
    "if secret_function[0]:\n",
    "    oracle.append([cirq.CNOT(q0, q1), cirq.X(q1)])\n",
    "\n",
    "if secret_function[1]:\n",
    "    oracle.append(cirq.CNOT(q0, q1))\n",
    "\n",
    "print(\"Oracle:\\n\", cirq.Circuit(oracle))"
   ]
  },
  {
   "cell_type": "markdown",
   "metadata": {},
   "source": [
    "### 4. Circuit Diagram\n",
    "\n",
    "Now we can create the Deutsch circuit.\n",
    "We need to follow the diagram and implement the circuit below:\n",
    "\n",
    "<img src=\"./res/deutsch_diagram.png\" alt=\"Deutsch Diagram\" width=\"600\"/>\n",
    "\n",
    "You can create the circuit for only two qubits.\n",
    "We can always generalize and extend the circuit to N qubits using loops."
   ]
  },
  {
   "cell_type": "code",
   "execution_count": 934,
   "metadata": {},
   "outputs": [
    {
     "name": "stdout",
     "output_type": "stream",
     "text": [
      "Constructed Circuit:\n",
      "0: ───H───────@───────@───H───M('result')───\n",
      "              │       │\n",
      "1: ───X───H───X───X───X─────────────────────\n"
     ]
    }
   ],
   "source": [
    "# Initialize the circuit\n",
    "circuit = cirq.Circuit()\n",
    "\n",
    "# Initialize qubits. All qubits are in the 0 state except the last one\n",
    "circuit.append([cirq.X(q1), cirq.H(q1), cirq.H(q0)])\n",
    "\n",
    "# Add the oracle\n",
    "circuit.append(oracle)\n",
    "\n",
    "# Add the measurement\n",
    "# Don't forget to apply another H gate to the qubit\n",
    "circuit.append([cirq.H(q0), cirq.measure(q0, key='result')])\n",
    "\n",
    "print('Constructed Circuit:')\n",
    "print(circuit)"
   ]
  },
  {
   "cell_type": "markdown",
   "metadata": {},
   "source": [
    "### 5. Circuit Simulation\n",
    "\n",
    "Now we can just run the circuit and see if it works.\n",
    "To run it, we need to create a simulator and then run it.\n",
    "\n",
    "**The result can't be used directly, as it's a dictionary of lists!**"
   ]
  },
  {
   "cell_type": "code",
   "execution_count": 935,
   "metadata": {},
   "outputs": [
    {
     "name": "stdout",
     "output_type": "stream",
     "text": [
      "f(0) x f(1) = 0\n"
     ]
    }
   ],
   "source": [
    "# Simulate the circuit\n",
    "simulator = cirq.Simulator()\n",
    "result = simulator.run(circuit)\n",
    "measurement_result = result.measurements['result'][0][0]\n",
    "print('f(0) x f(1) =', measurement_result)"
   ]
  },
  {
   "cell_type": "markdown",
   "metadata": {},
   "source": [
    "### 6. Testing our Result\n",
    "\n",
    "Remember that the Deutsch-Josza algorithm calculates if two bits are of the same parity.\n",
    "To check this, we can just use a modulo operation of the generated secret function to compare with the result."
   ]
  },
  {
   "cell_type": "code",
   "execution_count": 936,
   "metadata": {},
   "outputs": [
    {
     "name": "stdout",
     "output_type": "stream",
     "text": [
      "Code Success\n"
     ]
    }
   ],
   "source": [
    "# Check validity of result. Checks if bits are of the same parity.\n",
    "if  (secret_function[0] + secret_function[1]) % 2 == measurement_result:\n",
    "    print(\"Code Success\")\n",
    "else:\n",
    "    print(\"Code Failure\")"
   ]
  },
  {
   "cell_type": "markdown",
   "metadata": {},
   "source": [
    "### 7. Bonus\n",
    "\n",
    "Rewrite the circuit to use N qubits."
   ]
  }
 ],
 "metadata": {
  "interpreter": {
   "hash": "043edfcbf51de9b3218b38f0a8048159c12c7d98a723bf8d724fa0846bcbb564"
  },
  "kernelspec": {
   "display_name": "Python 3.8.4 64-bit",
   "language": "python",
   "name": "python3"
  },
  "language_info": {
   "codemirror_mode": {
    "name": "ipython",
    "version": 3
   },
   "file_extension": ".py",
   "mimetype": "text/x-python",
   "name": "python",
   "nbconvert_exporter": "python",
   "pygments_lexer": "ipython3",
   "version": "3.8.4"
  },
  "orig_nbformat": 4
 },
 "nbformat": 4,
 "nbformat_minor": 2
}
